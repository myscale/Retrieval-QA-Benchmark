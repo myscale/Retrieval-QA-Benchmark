{
 "cells": [
  {
   "cell_type": "code",
   "execution_count": 1,
   "metadata": {},
   "outputs": [
    {
     "name": "stdout",
     "output_type": "stream",
     "text": [
      "Datasets:\n",
      "\thotpot_qa\n",
      "\tmmlu\n",
      "\twikihop\n",
      "Transforms:\n",
      "\tbase\n",
      "\tadd_myscale_retrieval\n",
      "\tmcma_prompt\n",
      "\tmcsa_prompt\n",
      "\tmcsa_fewshot_mmlu\n",
      "Models:\n",
      "\tremote-llm\n",
      "\tgpt35\n",
      "\tchatgpt35\n",
      "Evaluators:\n",
      "\tmcma\n",
      "\tmcsa\n"
     ]
    }
   ],
   "source": [
    "from os import environ\n",
    "\n",
    "# environ['HF_HOME'] = '/Volumes/DATA/hf_home'\n",
    "environ[\"HF_HOME\"] = \"/mnt/workspaces/hf_home\"\n",
    "environ[\"HTTP_PROXY\"] = \"http://clash.internal.moqi.ai:7890\"\n",
    "environ[\"HTTPS_PROXY\"] = \"http://clash.internal.moqi.ai:7890\"\n",
    "environ[\"OPENAI_API_BASE\"] = \"http://10.1.3.28:8990/v1\"\n",
    "environ[\"OPENAI_API_KEY\"] = \"sk-\"\n",
    "\n",
    "\n",
    "from retrieval_qa_benchmark.models import *\n",
    "from retrieval_qa_benchmark.datasets import *\n",
    "from retrieval_qa_benchmark.transforms import *\n",
    "from retrieval_qa_benchmark.protocols import *\n",
    "from retrieval_qa_benchmark.utils.registry import REGISTRY\n",
    "from retrieval_qa_benchmark.utils.profiler import PROFILER\n",
    "\n",
    "print(str(REGISTRY))"
   ]
  },
  {
   "cell_type": "code",
   "execution_count": 2,
   "metadata": {},
   "outputs": [
    {
     "name": "stderr",
     "output_type": "stream",
     "text": [
      "Converting dataset...: 100%|██████████| 324/324 [00:00<00:00, 5085.72it/s]\n"
     ]
    }
   ],
   "source": [
    "import yaml\n",
    "from retrieval_qa_benchmark.utils.config import load\n",
    "config = load(open(\"../config/test.yaml\"))\n",
    "evaluator = REGISTRY.Evaluators[\"mcsa\"].from_config(config)\n",
    "# print(evaluator.transform)"
   ]
  },
  {
   "cell_type": "code",
   "execution_count": 4,
   "metadata": {},
   "outputs": [
    {
     "data": {
      "text/plain": [
       "QARecord(id='4e8db4a928333356588d2b89477e5d5bcb95532cd8afa355456ac94e13fd1849', question='Unlike most other early civilizations, Minoan culture shows little evidence of:', answer='conspicuous consumption by elites.', type='MCSA', context=None, choices=['trade.', 'warfare.', 'the development of a common religion.', 'conspicuous consumption by elites.'], stack=[])"
      ]
     },
     "execution_count": 4,
     "metadata": {},
     "output_type": "execute_result"
    }
   ],
   "source": [
    "data = evaluator.transform(evaluator.dataset[0])\n",
    "# print(evaluator.transform(evaluator.dataset[0]).raw_question)\n",
    "# evaluator.dataset.eval_set = evaluator.dataset.eval_set[:5]\n",
    "data"
   ]
  },
  {
   "cell_type": "code",
   "execution_count": 7,
   "metadata": {},
   "outputs": [
    {
     "name": "stdout",
     "output_type": "stream",
     "text": [
      "The following are multiple choice questions (with answers):\n",
      "\n",
      "Question: Unlike most other early civilizations, Minoan culture shows little evidence of:\n",
      "A. trade.\tB. warfare.\tC. the development of a common religion.\tD. conspicuous consumption by elites.\n",
      "Answer: \n"
     ]
    }
   ],
   "source": [
    "print(evaluator.llm.convert_record(data))"
   ]
  },
  {
   "cell_type": "code",
   "execution_count": 5,
   "metadata": {},
   "outputs": [
    {
     "name": "stdout",
     "output_type": "stream",
     "text": [
      "\t======== Profile Result ========\n",
      "BaseTransform.chain                               \tCount:     324\tAvgTime:    0.05 ms\n",
      "BaseDataset.__getitem__                           \tCount:       2\tAvgTime:    0.02 ms\n",
      "TransformChain.__call__                           \tCount:       2\tAvgTime:    0.01 ms\n",
      "\n"
     ]
    }
   ],
   "source": [
    "print(str(PROFILER))"
   ]
  },
  {
   "cell_type": "code",
   "execution_count": null,
   "metadata": {},
   "outputs": [],
   "source": [
    "matched = evaluator()"
   ]
  },
  {
   "cell_type": "code",
   "execution_count": null,
   "metadata": {},
   "outputs": [],
   "source": [
    "print(str(PROFILER))"
   ]
  },
  {
   "cell_type": "code",
   "execution_count": null,
   "metadata": {},
   "outputs": [],
   "source": [
    "with open(\"results.with-retrieval.jsonl\", \"w\") as f:\n",
    "    f.write(\"\\n\".join([r.model_dump_json() for r in matched[1]]))"
   ]
  },
  {
   "cell_type": "code",
   "execution_count": null,
   "metadata": {},
   "outputs": [],
   "source": [
    "for dname, dset in REGISTRY.Datasets.items():\n",
    "    print(f\"Loading {dname}...\")\n",
    "    dset.build()"
   ]
  },
  {
   "cell_type": "code",
   "execution_count": null,
   "metadata": {},
   "outputs": [],
   "source": [
    "from retrieval_qa_benchmark.schema import QAPrediction\n",
    "\n",
    "mismatched = [pred for pred in matched[1] if pred.matched]"
   ]
  },
  {
   "cell_type": "code",
   "execution_count": null,
   "metadata": {},
   "outputs": [],
   "source": [
    "with open(\"results.test.jsonl\", \"w\") as f:\n",
    "    f.write(\"\\n\".join([r.model_dump_json() for r in mismatched]))"
   ]
  },
  {
   "cell_type": "code",
   "execution_count": null,
   "metadata": {},
   "outputs": [],
   "source": []
  }
 ],
 "metadata": {
  "kernelspec": {
   "display_name": "base",
   "language": "python",
   "name": "python3"
  },
  "language_info": {
   "codemirror_mode": {
    "name": "ipython",
    "version": 3
   },
   "file_extension": ".py",
   "mimetype": "text/x-python",
   "name": "python",
   "nbconvert_exporter": "python",
   "pygments_lexer": "ipython3",
   "version": "3.10.9"
  },
  "orig_nbformat": 4
 },
 "nbformat": 4,
 "nbformat_minor": 2
}
