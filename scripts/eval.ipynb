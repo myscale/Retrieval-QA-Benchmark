{
 "cells": [
  {
   "cell_type": "code",
   "execution_count": 1,
   "metadata": {},
   "outputs": [
    {
     "name": "stderr",
     "output_type": "stream",
     "text": [
      "[nltk_data] Downloading package words to /home/fangruil/nltk_data...\n",
      "[nltk_data]   Package words is already up-to-date!\n",
      "[nltk_data] Downloading package stopwords to\n",
      "[nltk_data]     /home/fangruil/nltk_data...\n",
      "[nltk_data]   Package stopwords is already up-to-date!\n",
      "[nltk_data] Downloading package punkt to /home/fangruil/nltk_data...\n",
      "[nltk_data]   Package punkt is already up-to-date!\n",
      "[nltk_data] Downloading package averaged_perceptron_tagger to\n",
      "[nltk_data]     /home/fangruil/nltk_data...\n",
      "[nltk_data]   Package averaged_perceptron_tagger is already up-to-\n",
      "[nltk_data]       date!\n",
      "[nltk_data] Downloading package wordnet to /home/fangruil/nltk_data...\n",
      "[nltk_data]   Package wordnet is already up-to-date!\n"
     ]
    },
    {
     "name": "stdout",
     "output_type": "stream",
     "text": [
      "Datasets:\n",
      "\thotpot_qa\n",
      "\tmmlu\n",
      "\twikihop\n",
      "Transforms:\n",
      "\tbase\n",
      "\tFaiss\n",
      "\tElasticBM25\n",
      "\tMyScale\n",
      "\tRRFHybrid\n",
      "LLMs:\n",
      "\tremote-llm\n",
      "\tgpt35\n",
      "\tchatgpt35\n",
      "Evaluators:\n",
      "\tmcma\n",
      "\tmcsa\n"
     ]
    },
    {
     "name": "stderr",
     "output_type": "stream",
     "text": [
      "/home/fangruil/anaconda3/lib/python3.10/site-packages/pydantic/_internal/_fields.py:127: UserWarning: Field \"model_name\" has conflict with protected namespace \"model_\".\n",
      "\n",
      "You may be able to resolve this warning by setting `model_config['protected_namespaces'] = ()`.\n",
      "  warnings.warn(\n",
      "/home/fangruil/anaconda3/lib/python3.10/site-packages/pydantic/_internal/_fields.py:127: UserWarning: Field \"model_name\" has conflict with protected namespace \"model_\".\n",
      "\n",
      "You may be able to resolve this warning by setting `model_config['protected_namespaces'] = ()`.\n",
      "  warnings.warn(\n"
     ]
    }
   ],
   "source": [
    "from os import environ\n",
    "\n",
    "# environ['HF_HOME'] = '/Volumes/DATA/hf_home'\n",
    "environ[\"HF_HOME\"] = \"/mnt/workspaces/hf_home\"\n",
    "environ[\"HTTP_PROXY\"] = \"http://clash.internal.moqi.ai:7890\"\n",
    "environ[\"HTTPS_PROXY\"] = \"http://clash.internal.moqi.ai:7890\"\n",
    "environ[\"OPENAI_API_BASE\"] = \"http://10.1.3.28:8990/v1\"\n",
    "environ[\"OPENAI_API_KEY\"] = \"sk-\"\n",
    "\n",
    "\n",
    "from retrieval_qa_benchmark.models import *\n",
    "from retrieval_qa_benchmark.datasets import *\n",
    "from retrieval_qa_benchmark.transforms import *\n",
    "from retrieval_qa_benchmark.protocols import *\n",
    "from retrieval_qa_benchmark.utils.registry import REGISTRY\n",
    "from retrieval_qa_benchmark.utils.profiler import PROFILER\n",
    "\n",
    "print(str(REGISTRY))"
   ]
  },
  {
   "cell_type": "code",
   "execution_count": 2,
   "metadata": {},
   "outputs": [
    {
     "name": "stderr",
     "output_type": "stream",
     "text": [
      "Converting dataset...: 100%|██████████| 324/324 [00:00<00:00, 5564.72it/s]\n",
      "\u001b[32m2023-08-15 01:53:16.883\u001b[0m | \u001b[1mINFO    \u001b[0m | \u001b[36mretrieval_qa_benchmark.transforms.search.myscale\u001b[0m:\u001b[36m__init__\u001b[0m:\u001b[36m34\u001b[0m - \u001b[1mconnecting to myscale backend...\u001b[0m\n",
      "\u001b[32m2023-08-15 01:53:16.945\u001b[0m | \u001b[1mINFO    \u001b[0m | \u001b[36mretrieval_qa_benchmark.transforms.search.myscale\u001b[0m:\u001b[36m__init__\u001b[0m:\u001b[36m41\u001b[0m - \u001b[1mload mpnet model...\u001b[0m\n"
     ]
    },
    {
     "name": "stdout",
     "output_type": "stream",
     "text": [
      "{'0': ContextWithMyScale(children=(None, None), sep_chr='\\n', num_selected=5, context_template='{title} | {paragraph}', msc_host='10.1.2.118', msc_port=8123, msc_user='admin', msc_pass='moqi.ai', two_staged=True, kw_topk=10, num_filtered=100, embedding_name='paraphrase-multilingual-mpnet-base-v2', table_name='default.Wikipedia')}\n",
      "entry_id='0' chain={'0': ContextWithMyScale(children=(None, None), sep_chr='\\n', num_selected=5, context_template='{title} | {paragraph}', msc_host='10.1.2.118', msc_port=8123, msc_user='admin', msc_pass='moqi.ai', two_staged=True, kw_topk=10, num_filtered=100, embedding_name='paraphrase-multilingual-mpnet-base-v2', table_name='default.Wikipedia')}\n"
     ]
    }
   ],
   "source": [
    "import yaml\n",
    "from retrieval_qa_benchmark.utils.config import load\n",
    "\n",
    "config = load(open(\"../config/mmlu-llama2-remote-retrieval-myscale.yaml\"))\n",
    "evaluator = REGISTRY.Evaluators[\"mcsa\"].from_config(config)\n",
    "print(evaluator.transform)"
   ]
  },
  {
   "cell_type": "code",
   "execution_count": 3,
   "metadata": {},
   "outputs": [
    {
     "name": "stderr",
     "output_type": "stream",
     "text": [
      "100%|██████████| 324/324 [01:10<00:00,  4.62it/s]\n"
     ]
    },
    {
     "data": {
      "text/plain": [
       "QARecord(id='4e8db4a928333356588d2b89477e5d5bcb95532cd8afa355456ac94e13fd1849', question='Unlike most other early civilizations, Minoan culture shows little evidence of:', answer='conspicuous consumption by elites.', type='MCSA', context=['Minoan civilization | The Bronze Age began on Crete around 3200BC. The Early Bronze Age (3500 to 2100BC) has been described as indicating a \"promise of greatness\" in light of later developments on the island. In the late third millenniumBC, several locations on the island developed into centers of commerce and handiwork, enabling the upper classes to exercise leadership and expand their influence. It is possible that the original hierarchies of the local elites were replaced by monarchies, a precondition for the palaces. Pottery typical of the Korakou culture was discovered in Crete from the Early Minoan Period.', 'Ancient history | Minoan civilisation emerged around 3000 BC on the island of Crete, where towns emerged on the coast. Trade was important in Minoan civilisation, with artifacts from the Minoans discovered in Egypt, Syria, Cyprus, and Greece. Large palaces grew up on Crete, decorated with painted frescoes. A Minoan writing system is known - Linear A, but it remains mostly undeciphered. An eruption of a volcano on the island of Thera around 1500 BC may have contributed to the decline of Minoan civilisation, with many of the Cretan cities being destroyed around 1450 BC by Mycenaean from mainland Greece. Unlike Linear A, the Mycenaean writing system - Linear B - has been deciphered. Mycenaean culture flourished until around 1200 BC, when it too declined and many of its centres were destroyed.', 'Minoan civilization | A fresco of saffron-gatherers at Santorini is well-known. The Minoan trade in saffron, the stigma of a naturally-mutated crocus which originated in the Aegean basin, has left few material remains. According to Evans, the saffron (a sizable Minoan industry) was used for dye. Other archaeologists emphasize durable trade items: ceramics, copper, tin, gold and silver. The saffron may have had a religious significance. The saffron trade, which predated Minoan civilization, was comparable in value to that of frankincense or black pepper.', 'Aegean Sea | The Minoan civilization was a Bronze Age civilization on the island of Crete and other Aegean islands, flourishing from around 3000 to 1450 BC before a period of decline, finally ending at around 1100 BC. It represented the first advanced civilization in Europe, leaving behind massive building complexes, tools, stunning artwork, writing systems, and a massive network of trade. The Minoan period saw extensive trade between Crete, Aegean, and Mediterranean settlements, particularly the Near East. The most notable Minoan palace is that of Knossos, followed by that of Phaistos. The Mycenaean Greeks arose on the mainland, becoming the first advanced civilization in mainland Greece, which lasted from approximately 1600 to 1100 BC. It is believed that the site of Mycenae, which sits close to the Aegean coast, was the center of Mycenaean civilization. The Mycenaeans introduced several innovations in the fields of engineering, architecture and military infrastructure, while trade over vast areas of the Mediterranean, including the Aegean, was essential for the Mycenaean economy. Their syllabic script, the Linear B, offers the first written records of the Greek language and their religion already included several deities that can also be found in the Olympic Pantheon. Mycenaean Greece was dominated by a warrior elite society and consisted of a network of palace-centered states that developed rigid hierarchical, political, social and economic systems. At the head of this society was the king, known as \"wanax\".', 'Minoan civilization | Apart from the abundant local agriculture, the Minoans were also a mercantile people who engaged significantly in overseas trade, and at their peak may well have had a dominant position in international trade over much of the Mediterranean. After 1700BC, their culture indicates a high degree of organization. Minoan-manufactured goods suggest a network of trade with mainland Greece (notably Mycenae), Cyprus, Syria, Anatolia, Egypt, Mesopotamia and westward as far as the Iberian peninsula. Minoan religion apparently focused on female deities, with women officiants. While historians and archaeologists have long been skeptical of an outright matriarchy, the predominance of female figures in authoritative roles over male ones seems to indicate that Minoan society was matriarchal, and among the most well-supported examples known.'], choices=['trade.', 'warfare.', 'the development of a common religion.', 'conspicuous consumption by elites.'], stack=[])"
      ]
     },
     "execution_count": 3,
     "metadata": {},
     "output_type": "execute_result"
    }
   ],
   "source": [
    "import json\n",
    "from tqdm import tqdm\n",
    "\n",
    "data = []\n",
    "for i in tqdm(range(len(evaluator.dataset))):\n",
    "    data.append(evaluator.transform(evaluator.dataset[i]))\n",
    "with open(\"old_aligned.jsonl\", \"w\") as f:\n",
    "    f.write(\"\\n\".join([json.dumps(d.model_dump()) for d in data]))\n",
    "# evaluator.dataset.eval_set = evaluator.dataset.eval_set[:5]\n",
    "data[0]"
   ]
  },
  {
   "cell_type": "code",
   "execution_count": 4,
   "metadata": {},
   "outputs": [
    {
     "name": "stdout",
     "output_type": "stream",
     "text": [
      "The following are multiple choice questions (with answers) with context:\n",
      "\n",
      "Context:\n",
      "[1] Minoan civilization | The Bronze Age began on Crete around 3200BC. The Early Bronze Age (3500 to 2100BC) has been described as indicating a \"promise of greatness\" in light of later developments on the island. In the late third millenniumBC, several locations on the island developed into centers of commerce and handiwork, enabling the upper classes to exercise leadership and expand their influence. It is possible that the original hierarchies of the local elites were replaced by monarchies, a precondition for the palaces. Pottery typical of the Korakou culture was discovered in Crete from the Early Minoan Period.\n",
      "[2] Ancient history | Minoan civilisation emerged around 3000 BC on the island of Crete, where towns emerged on the coast. Trade was important in Minoan civilisation, with artifacts from the Minoans discovered in Egypt, Syria, Cyprus, and Greece. Large palaces grew up on Crete, decorated with painted frescoes. A Minoan writing system is known - Linear A, but it remains mostly undeciphered. An eruption of a volcano on the island of Thera around 1500 BC may have contributed to the decline of Minoan civilisation, with many of the Cretan cities being destroyed around 1450 BC by Mycenaean from mainland Greece. Unlike Linear A, the Mycenaean writing system - Linear B - has been deciphered. Mycenaean culture flourished until around 1200 BC, when it too declined and many of its centres were destroyed.\n",
      "[3] Minoan civilization | A fresco of saffron-gatherers at Santorini is well-known. The Minoan trade in saffron, the stigma of a naturally-mutated crocus which originated in the Aegean basin, has left few material remains. According to Evans, the saffron (a sizable Minoan industry) was used for dye. Other archaeologists emphasize durable trade items: ceramics, copper, tin, gold and silver. The saffron may have had a religious significance. The saffron trade, which predated Minoan civilization, was comparable in value to that of frankincense or black pepper.\n",
      "[4] Aegean Sea | The Minoan civilization was a Bronze Age civilization on the island of Crete and other Aegean islands, flourishing from around 3000 to 1450 BC before a period of decline, finally ending at around 1100 BC. It represented the first advanced civilization in Europe, leaving behind massive building complexes, tools, stunning artwork, writing systems, and a massive network of trade. The Minoan period saw extensive trade between Crete, Aegean, and Mediterranean settlements, particularly the Near East. The most notable Minoan palace is that of Knossos, followed by that of Phaistos. The Mycenaean Greeks arose on the mainland, becoming the first advanced civilization in mainland Greece, which lasted from approximately 1600 to 1100 BC. It is believed that the site of Mycenae, which sits close to the Aegean coast, was the center of Mycenaean civilization. The Mycenaeans introduced several innovations in the fields of engineering, architecture and military infrastructure, while trade over vast areas of the Mediterranean, including the Aegean, was essential for the Mycenaean economy. Their syllabic script, the Linear B, offers the first written records of the Greek language and their religion already included several deities that can also be found in the Olympic Pantheon. Mycenaean Greece was dominated by a warrior elite society and consisted of a network of palace-centered states that developed rigid hierarchical, political, social and economic systems. At the head of this society was the king, known as \"wanax\".\n",
      "[5] Minoan civilization | Apart from the abundant local agriculture, the Minoans were also a mercantile people who engaged significantly in overseas trade, and at their peak may well have had a dominant position in international trade over much of the Mediterranean. After 1700BC, their culture indicates a high degree of organization. Minoan-manufactured goods suggest a network of trade with mainland Greece (notably Mycenae), Cyprus, Syria, Anatolia, Egypt, Mesopotamia and westward as far as the Iberian peninsula. Minoan religion apparently focused on female deities, with women officiants. While historians and archaeologists have long been skeptical of an outright matriarchy, the predominance of female figures in authoritative roles over male ones seems to indicate that Minoan society was matriarchal, and among the most well-supported examples known.\n",
      "\n",
      "Question: Unlike most other early civilizations, Minoan culture shows little evidence of:\n",
      "A. trade.\tB. warfare.\tC. the development of a common religion.\tD. conspicuous consumption by elites.\n",
      "Answer: \n"
     ]
    }
   ],
   "source": [
    "print(evaluator.llm.convert_record(data[0]))"
   ]
  },
  {
   "cell_type": "code",
   "execution_count": 5,
   "metadata": {},
   "outputs": [
    {
     "name": "stdout",
     "output_type": "stream",
     "text": [
      "\t======== Profile Result ========\n",
      "transform.base.profile                            \tCount:     648\tAvgTime:  107.63 ms\n",
      "dataset.mmlu.profile                              \tCount:     324\tAvgTime:    0.01 ms\n",
      "database.MyScaleSearcher.retrieve.profile         \tCount:     324\tAvgTime:  186.35 ms\n",
      "database.MyScaleSearcher.search.profile           \tCount:     324\tAvgTime:  215.05 ms\n",
      "transform.MyScale.profile                         \tCount:     324\tAvgTime:  215.23 ms\n",
      "transform.TransformChain.profile                  \tCount:     324\tAvgTime:  215.34 ms\n",
      "\n"
     ]
    }
   ],
   "source": [
    "print(str(PROFILER))\n",
    "PROFILER.clear()"
   ]
  },
  {
   "cell_type": "code",
   "execution_count": null,
   "metadata": {},
   "outputs": [],
   "source": [
    "matched = evaluator()"
   ]
  },
  {
   "cell_type": "code",
   "execution_count": null,
   "metadata": {},
   "outputs": [],
   "source": [
    "print(str(PROFILER))"
   ]
  },
  {
   "cell_type": "code",
   "execution_count": null,
   "metadata": {},
   "outputs": [],
   "source": [
    "with open(\"results.with-retrieval.test.jsonl\", \"w\") as f:\n",
    "    f.write(\"\\n\".join([r.model_dump_json() for r in matched[1]]))"
   ]
  },
  {
   "cell_type": "code",
   "execution_count": null,
   "metadata": {},
   "outputs": [],
   "source": [
    "for dname, dset in REGISTRY.Datasets.items():\n",
    "    print(f\"Loading {dname}...\")\n",
    "    dset.build()"
   ]
  },
  {
   "cell_type": "code",
   "execution_count": null,
   "metadata": {},
   "outputs": [],
   "source": [
    "from retrieval_qa_benchmark.schema import QAPrediction\n",
    "\n",
    "mismatched = [pred for pred in matched[1] if pred.matched]"
   ]
  },
  {
   "cell_type": "code",
   "execution_count": null,
   "metadata": {},
   "outputs": [],
   "source": [
    "with open(\"results.test.jsonl\", \"w\") as f:\n",
    "    f.write(\"\\n\".join([r.model_dump_json() for r in mismatched]))"
   ]
  },
  {
   "cell_type": "code",
   "execution_count": 6,
   "metadata": {},
   "outputs": [],
   "source": [
    "import json\n",
    "\n",
    "with open(\"old_aligned.jsonl\") as f1:\n",
    "    old_result = [json.loads(l) for l in f1.readlines()]\n",
    "\n",
    "with open(\"new.jsonl\") as f2:\n",
    "    new_result = [json.loads(l) for l in f2.readlines()]"
   ]
  },
  {
   "cell_type": "code",
   "execution_count": 7,
   "metadata": {},
   "outputs": [
    {
     "name": "stdout",
     "output_type": "stream",
     "text": [
      "0.1993827160493827\n"
     ]
    }
   ],
   "source": [
    "from hashlib import sha256\n",
    "\n",
    "cnt = 0\n",
    "for r1, r2 in zip(old_result, new_result):\n",
    "    c1 = set(map(lambda x: sha256(x.encode(\"utf-8\")).hexdigest(), r1[\"context\"]))\n",
    "    c2 = set(map(lambda x: sha256(x.encode(\"utf-8\")).hexdigest(), r2[\"context\"]))\n",
    "    cnt += len(c2.intersection(c1))\n",
    "print(cnt / len(new_result) / 5)"
   ]
  },
  {
   "cell_type": "code",
   "execution_count": null,
   "metadata": {},
   "outputs": [],
   "source": []
  }
 ],
 "metadata": {
  "kernelspec": {
   "display_name": "base",
   "language": "python",
   "name": "python3"
  },
  "language_info": {
   "codemirror_mode": {
    "name": "ipython",
    "version": 3
   },
   "file_extension": ".py",
   "mimetype": "text/x-python",
   "name": "python",
   "nbconvert_exporter": "python",
   "pygments_lexer": "ipython3",
   "version": "3.10.9"
  },
  "orig_nbformat": 4
 },
 "nbformat": 4,
 "nbformat_minor": 2
}
