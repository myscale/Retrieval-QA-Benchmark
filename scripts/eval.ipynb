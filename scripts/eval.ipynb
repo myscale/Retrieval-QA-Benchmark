{
 "cells": [
  {
   "cell_type": "code",
   "execution_count": 1,
   "metadata": {},
   "outputs": [
    {
     "name": "stderr",
     "output_type": "stream",
     "text": [
      "/Users/fangruil/Documents/MQDB/Retrieval-QA-Benchmark/.venv/lib/python3.8/site-packages/tqdm/auto.py:21: TqdmWarning: IProgress not found. Please update jupyter and ipywidgets. See https://ipywidgets.readthedocs.io/en/stable/user_install.html\n",
      "  from .autonotebook import tqdm as notebook_tqdm\n"
     ]
    },
    {
     "name": "stdout",
     "output_type": "stream",
     "text": [
      "Datasets:\n",
      "\thotpot_qa\n",
      "\tmmlu\n",
      "\twikihop\n",
      "Transforms:\n",
      "\tbase\n",
      "\tmcsa_prompt\n",
      "\tmcsa_fewshot_mmlu\n",
      "Models:\n",
      "\tgpt35\n",
      "\tchatgpt35\n",
      "Evaluators:\n",
      "\tmcma\n",
      "\tmcsa\n"
     ]
    },
    {
     "name": "stderr",
     "output_type": "stream",
     "text": [
      "/Users/fangruil/Documents/MQDB/Retrieval-QA-Benchmark/.venv/lib/python3.8/site-packages/pydantic/_internal/_fields.py:127: UserWarning: Field \"model_name\" has conflict with protected namespace \"model_\".\n",
      "\n",
      "You may be able to resolve this warning by setting `model_config['protected_namespaces'] = ()`.\n",
      "  warnings.warn(\n"
     ]
    }
   ],
   "source": [
    "from os import environ\n",
    "\n",
    "# environ['HF_HOME'] = '/Volumes/DATA/hf_home'\n",
    "environ[\"HTTP_PROXY\"] = \"http://localhost:7890\"\n",
    "environ[\"HTTPS_PROXY\"] = \"http://localhost:7890\"\n",
    "environ[\"OPENAI_API_BASE\"] = \"http://10.1.3.28:8990/v1\"\n",
    "environ[\"OPENAI_API_KEY\"] = \"sk-\"\n",
    "\n",
    "from retrieval_qa_benchmark.models import *\n",
    "from retrieval_qa_benchmark.datasets import *\n",
    "from retrieval_qa_benchmark.transforms import *\n",
    "from retrieval_qa_benchmark.protocols import *\n",
    "from retrieval_qa_benchmark.utils.registry import REGISTRY\n",
    "\n",
    "print(str(REGISTRY))"
   ]
  },
  {
   "cell_type": "code",
   "execution_count": 2,
   "metadata": {},
   "outputs": [
    {
     "name": "stderr",
     "output_type": "stream",
     "text": [
      "Converting dataset...: 100%|██████████| 324/324 [00:00<00:00, 9177.66it/s]\n"
     ]
    }
   ],
   "source": [
    "import yaml\n",
    "\n",
    "config = yaml.safe_load(open(\"../config/mmlu-llama2-remote.yaml\"))\n",
    "evaluator = REGISTRY.Evaluators[\"mcsa\"].from_config(config)"
   ]
  },
  {
   "cell_type": "code",
   "execution_count": 3,
   "metadata": {},
   "outputs": [
    {
     "name": "stderr",
     "output_type": "stream",
     "text": [
      "Evaluating: 100%|██████████| 324/324 [18:09<00:00,  3.36s/it] \n",
      "\u001b[32m2023-08-03 17:10:36.213\u001b[0m | \u001b[1mINFO    \u001b[0m | \u001b[36mretrieval_qa_benchmark.protocols.base\u001b[0m:\u001b[36m__call__\u001b[0m:\u001b[36m60\u001b[0m - \u001b[1mEvaluation finished! Executed Evaluator:<class 'retrieval_qa_benchmark.protocols.mcsa.MCSAEvaluator'> on Dataset:cais/mmlu.prehistory-test with Model:gpt-3.5-turbo. Accuracy: 6.79%\u001b[0m\n"
     ]
    }
   ],
   "source": [
    "matched = evaluator()"
   ]
  },
  {
   "cell_type": "code",
   "execution_count": null,
   "metadata": {},
   "outputs": [],
   "source": [
    "for dname, dset in REGISTRY.Datasets.items():\n",
    "    print(f\"Loading {dname}...\")\n",
    "    dset.build()"
   ]
  },
  {
   "cell_type": "code",
   "execution_count": null,
   "metadata": {},
   "outputs": [],
   "source": [
    "from retrieval_qa_benchmark.schema import QAPrediction\n",
    "mismatched = [pred for pred in matched if not pred.matched]"
   ]
  },
  {
   "cell_type": "code",
   "execution_count": null,
   "metadata": {},
   "outputs": [
    {
     "name": "stdout",
     "output_type": "stream",
     "text": [
      "Please answer with the letter of the correct answer.\n",
      "\n",
      "Unlike most other early civilizations, Minoan culture shows little evidence of:\n",
      "A. trade.\tB. warfare.\tC. the development of a common religion.\tD. conspicuous consumption by elites.\n",
      "\n",
      "conspicuous consumption by elites.\n",
      "Hello! I'd be happy to help you with that. The correct answer\n"
     ]
    }
   ],
   "source": [
    "print(mismatched[0].question)\n",
    "print(mismatched[0].answer)\n",
    "print(mismatched[0].pred)"
   ]
  },
  {
   "cell_type": "code",
   "execution_count": null,
   "metadata": {},
   "outputs": [],
   "source": []
  }
 ],
 "metadata": {
  "kernelspec": {
   "display_name": "base",
   "language": "python",
   "name": "python3"
  },
  "language_info": {
   "codemirror_mode": {
    "name": "ipython",
    "version": 3
   },
   "file_extension": ".py",
   "mimetype": "text/x-python",
   "name": "python",
   "nbconvert_exporter": "python",
   "pygments_lexer": "ipython3",
   "version": "3.8.8"
  },
  "orig_nbformat": 4
 },
 "nbformat": 4,
 "nbformat_minor": 2
}
