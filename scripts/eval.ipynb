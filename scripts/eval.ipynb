{
 "cells": [
  {
   "cell_type": "code",
   "execution_count": 1,
   "metadata": {},
   "outputs": [
    {
     "name": "stdout",
     "output_type": "stream",
     "text": [
      "Datasets:\n",
      "\thotpot_qa\n",
      "\tmmlu\n",
      "\twikihop\n",
      "Transforms:\n",
      "\tbase\n",
      "\tadd_myscale_retrieval\n",
      "LLMs:\n",
      "\tremote-llm\n",
      "\tgpt35\n",
      "\tchatgpt35\n",
      "Evaluators:\n",
      "\tmcma\n",
      "\tmcsa\n"
     ]
    }
   ],
   "source": [
    "from os import environ\n",
    "\n",
    "# environ['HF_HOME'] = '/Volumes/DATA/hf_home'\n",
    "environ[\"HF_HOME\"] = \"/mnt/workspaces/hf_home\"\n",
    "environ[\"HTTP_PROXY\"] = \"http://clash.internal.moqi.ai:7890\"\n",
    "environ[\"HTTPS_PROXY\"] = \"http://clash.internal.moqi.ai:7890\"\n",
    "environ[\"OPENAI_API_BASE\"] = \"http://10.1.3.28:8990/v1\"\n",
    "environ[\"OPENAI_API_KEY\"] = \"sk-\"\n",
    "\n",
    "\n",
    "from retrieval_qa_benchmark.models import *\n",
    "from retrieval_qa_benchmark.datasets import *\n",
    "from retrieval_qa_benchmark.transforms import *\n",
    "from retrieval_qa_benchmark.protocols import *\n",
    "from retrieval_qa_benchmark.utils.registry import REGISTRY\n",
    "from retrieval_qa_benchmark.utils.profiler import PROFILER\n",
    "\n",
    "print(str(REGISTRY))"
   ]
  },
  {
   "cell_type": "code",
   "execution_count": 3,
   "metadata": {},
   "outputs": [
    {
     "name": "stderr",
     "output_type": "stream",
     "text": [
      "Converting dataset...: 100%|██████████| 324/324 [00:00<00:00, 6745.40it/s]\n",
      "[nltk_data] Downloading package stopwords to\n",
      "[nltk_data]     /home/fangruil/nltk_data...\n",
      "[nltk_data]   Package stopwords is already up-to-date!\n",
      "[nltk_data] Downloading package punkt to /home/fangruil/nltk_data...\n",
      "[nltk_data]   Package punkt is already up-to-date!\n",
      "[nltk_data] Downloading package averaged_perceptron_tagger to\n",
      "[nltk_data]     /home/fangruil/nltk_data...\n",
      "[nltk_data]   Package averaged_perceptron_tagger is already up-to-\n",
      "[nltk_data]       date!\n",
      "[nltk_data] Downloading package wordnet to /home/fangruil/nltk_data...\n",
      "[nltk_data]   Package wordnet is already up-to-date!\n"
     ]
    },
    {
     "name": "stdout",
     "output_type": "stream",
     "text": [
      "load dataset...\n"
     ]
    },
    {
     "data": {
      "application/vnd.jupyter.widget-view+json": {
       "model_id": "68e65f01fc3646eabe40c72c8e47139c",
       "version_major": 2,
       "version_minor": 0
      },
      "text/plain": [
       "Resolving data files:   0%|          | 0/253 [00:00<?, ?it/s]"
      ]
     },
     "metadata": {},
     "output_type": "display_data"
    },
    {
     "name": "stdout",
     "output_type": "stream",
     "text": [
      "load index...\n",
      "load mpnet model...\n",
      "load Colbert model...\n",
      "entry_id='0' chain={'0': AddMyScaleRetrievalTransform(children=(None, None), sep_chr='\\n', prompt_prefix='Context:', num_filtered=100, num_selected=5, with_title=True, rank_dict={'mpnet': 30, 'bm25': 40}, index_path='/mnt/workspaces/yongqij/evals/data/indexes/Cohere_mpnet/IVFSQ_L2.index', embedding_name='paraphrase-multilingual-mpnet-base-v2', dataset_name=['Cohere/wikipedia-22-12-en-embeddings'])}\n"
     ]
    }
   ],
   "source": [
    "import yaml\n",
    "from retrieval_qa_benchmark.utils.config import load\n",
    "# config = load(open(\"../config/mmlu-llama2-remote-retrieval-2staged.yaml\"))\n",
    "config = load(open(\"../config/mmlu-llama2-remote-retrieval-base.yaml\"))\n",
    "evaluator = REGISTRY.Evaluators[\"mcsa\"].from_config(config)\n",
    "print(evaluator.transform)"
   ]
  },
  {
   "cell_type": "code",
   "execution_count": 5,
   "metadata": {},
   "outputs": [
    {
     "name": "stderr",
     "output_type": "stream",
     "text": [
      "100%|██████████| 324/324 [04:37<00:00,  1.17it/s]\n"
     ]
    }
   ],
   "source": [
    "import json\n",
    "from tqdm import tqdm\n",
    "data = []\n",
    "for i in tqdm(range(len(evaluator.dataset))):\n",
    "    data.append(evaluator.transform(evaluator.dataset[i]))\n",
    "with open('old_aligned.jsonl', 'w') as f:\n",
    "    f.write('\\n'.join([json.dumps(d.model_dump()) for d in data]))\n",
    "# evaluator.dataset.eval_set = evaluator.dataset.eval_set[:5]\n",
    "# data"
   ]
  },
  {
   "cell_type": "code",
   "execution_count": 4,
   "metadata": {},
   "outputs": [
    {
     "name": "stdout",
     "output_type": "stream",
     "text": [
      "The following are multiple choice questions (with answers) with context:\n",
      "\n",
      "Context:\n",
      "[1] Minoan art | It was influenced by the neighbouring cultures of Ancient Egypt and the ancient Near East, which had produced sophisticated urban art for much longer, but the character of the small but wealthy mercantile Minoan cities was very different, with little evidence of large temple-based religion, monarchs, or warfare, and \"all the imaginative power and childlike freshness of a very young culture\". All these aspects of the Minoan culture remain rather mysterious. Sinclair Hood described an \"essential quality of the finest Minoan art, the ability to create an atmosphere of movement and life although following a set of highly formal conventions\".\n",
      "[2] Minoan civilization | Apart from the abundant local agriculture, the Minoans were also a mercantile people who engaged significantly in overseas trade, and at their peak may well have had a dominant position in international trade over much of the Mediterranean. After 1700BC, their culture indicates a high degree of organization. Minoan-manufactured goods suggest a network of trade with mainland Greece (notably Mycenae), Cyprus, Syria, Anatolia, Egypt, Mesopotamia and westward as far as the Iberian peninsula. Minoan religion apparently focused on female deities, with women officiants. While historians and archaeologists have long been skeptical of an outright matriarchy, the predominance of female figures in authoritative roles over male ones seems to indicate that Minoan society was matriarchal, and among the most well-supported examples known.\n",
      "[3] Ancient history | Minoan civilisation emerged around 3000 BC on the island of Crete, where towns emerged on the coast. Trade was important in Minoan civilisation, with artifacts from the Minoans discovered in Egypt, Syria, Cyprus, and Greece. Large palaces grew up on Crete, decorated with painted frescoes. A Minoan writing system is known - Linear A, but it remains mostly undeciphered. An eruption of a volcano on the island of Thera around 1500 BC may have contributed to the decline of Minoan civilisation, with many of the Cretan cities being destroyed around 1450 BC by Mycenaean from mainland Greece. Unlike Linear A, the Mycenaean writing system - Linear B - has been deciphered. Mycenaean culture flourished until around 1200 BC, when it too declined and many of its centres were destroyed.\n",
      "[4] Cultural transformation theory | Although weapon-like tools and armor were found among the artifacts, the lack of battle fortifications found on the Minoan research sites suggests that the civilization was peaceful as a whole. There is very little evidence to suggest that there were ever any major internal disputes within the Minoan civilization, however there are several factors that are said to have influenced its later downfall. One of the most supported is the theory that it was due to outside conquest. Spyridon Marinatos, a Greek archaeologist, theorized that around 1500 B.C.E. a nearby volcano had erupted on the island of Crete, weakening the civilization. It likely did not cause the demise of the civilization but it crippled both its population and its economy making the Minoans vulnerable. Taking advantage of this weakness, the Mycenaeans, a neighboring military civilization, invaded the Minoans. The Minoans were not an aggressive military power but their island isolation made them difficult to be subdued, so the destruction caused by the volcano's eruption was enough to allow the Mycenaeans to successfully invade.\n",
      "[5] Minoan civilization | Very little is known about the forms of Minoan government; the Minoan language has not yet been deciphered. It used to be believed that the Minoans had a monarchy supported by a bureaucracy. This might initially have been a number of monarchies, corresponding with the \"palaces\" around Crete, but later all taken over by Knossos, which was itself later occupied by Mycenaean overlords. But, in notable contrast to contemporary Egyptian and Mesopotamian civilizations, \"Minoan iconography contains no pictures of recognizable kings\", and in recent decades it has come to be thought that before the presumed Mycenaean invasion around 1450BC, a group of elite families, presumably living in the \"villas\" and the palaces, controlled both government and religion.\n",
      "\n",
      "Question: Unlike most other early civilizations, Minoan culture shows little evidence of:\n",
      "A. trade.\tB. warfare.\tC. the development of a common religion.\tD. conspicuous consumption by elites.\n",
      "Answer: \n"
     ]
    }
   ],
   "source": [
    "print(evaluator.llm.convert_record(data))"
   ]
  },
  {
   "cell_type": "code",
   "execution_count": 5,
   "metadata": {},
   "outputs": [
    {
     "name": "stdout",
     "output_type": "stream",
     "text": [
      "\t======== Profile Result ========\n",
      "transform.base.profile                            \tCount:     344\tAvgTime:   34.21 ms\n",
      "dataset.mmlu.profile                              \tCount:      10\tAvgTime:    0.01 ms\n",
      "database.FaissSearch.emb_filter.profile           \tCount:      10\tAvgTime:  394.40 ms\n",
      "transform.Faiss.profile                           \tCount:      10\tAvgTime:  394.76 ms\n",
      "database.RerankSearcher.stage2_search.profile     \tCount:      10\tAvgTime:  774.70 ms\n",
      "transform.RRFHybrid.profile                       \tCount:      10\tAvgTime:  780.87 ms\n",
      "transform.TransformChain.profile                  \tCount:      10\tAvgTime: 1175.91 ms\n",
      "\n"
     ]
    }
   ],
   "source": [
    "print(str(PROFILER))\n",
    "PROFILER.clear()"
   ]
  },
  {
   "cell_type": "code",
   "execution_count": null,
   "metadata": {},
   "outputs": [],
   "source": [
    "matched = evaluator()"
   ]
  },
  {
   "cell_type": "code",
   "execution_count": null,
   "metadata": {},
   "outputs": [],
   "source": [
    "print(str(PROFILER))"
   ]
  },
  {
   "cell_type": "code",
   "execution_count": null,
   "metadata": {},
   "outputs": [],
   "source": [
    "with open(\"results.with-retrieval.test.jsonl\", \"w\") as f:\n",
    "    f.write(\"\\n\".join([r.model_dump_json() for r in matched[1]]))"
   ]
  },
  {
   "cell_type": "code",
   "execution_count": null,
   "metadata": {},
   "outputs": [],
   "source": [
    "for dname, dset in REGISTRY.Datasets.items():\n",
    "    print(f\"Loading {dname}...\")\n",
    "    dset.build()"
   ]
  },
  {
   "cell_type": "code",
   "execution_count": null,
   "metadata": {},
   "outputs": [],
   "source": [
    "from retrieval_qa_benchmark.schema import QAPrediction\n",
    "\n",
    "mismatched = [pred for pred in matched[1] if pred.matched]"
   ]
  },
  {
   "cell_type": "code",
   "execution_count": null,
   "metadata": {},
   "outputs": [],
   "source": [
    "with open(\"results.test.jsonl\", \"w\") as f:\n",
    "    f.write(\"\\n\".join([r.model_dump_json() for r in mismatched]))"
   ]
  },
  {
   "cell_type": "code",
   "execution_count": 6,
   "metadata": {},
   "outputs": [],
   "source": [
    "import json\n",
    "with open('old_aligned.jsonl') as f1:\n",
    "    old_result = [json.loads(l) for l in f1.readlines()]\n",
    "\n",
    "with open('new.jsonl') as f2:\n",
    "    new_result = [json.loads(l) for l in f2.readlines()]"
   ]
  },
  {
   "cell_type": "code",
   "execution_count": 7,
   "metadata": {},
   "outputs": [
    {
     "name": "stdout",
     "output_type": "stream",
     "text": [
      "1.0\n"
     ]
    }
   ],
   "source": [
    "from hashlib import sha256\n",
    "cnt = 0\n",
    "for r1, r2 in zip(old_result, new_result):\n",
    "    c1 = set(map(lambda x: sha256(x.encode('utf-8')).hexdigest(), r1['context']))\n",
    "    c2 = set(map(lambda x: sha256(x.encode('utf-8')).hexdigest(), r2['context']))\n",
    "    cnt += len(c2.intersection(c1))\n",
    "print(cnt / len(new_result) / 5)"
   ]
  },
  {
   "cell_type": "code",
   "execution_count": null,
   "metadata": {},
   "outputs": [],
   "source": []
  }
 ],
 "metadata": {
  "kernelspec": {
   "display_name": "base",
   "language": "python",
   "name": "python3"
  },
  "language_info": {
   "codemirror_mode": {
    "name": "ipython",
    "version": 3
   },
   "file_extension": ".py",
   "mimetype": "text/x-python",
   "name": "python",
   "nbconvert_exporter": "python",
   "pygments_lexer": "ipython3",
   "version": "3.10.9"
  },
  "orig_nbformat": 4
 },
 "nbformat": 4,
 "nbformat_minor": 2
}
