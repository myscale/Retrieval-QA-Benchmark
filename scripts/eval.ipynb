{
 "cells": [
  {
   "cell_type": "code",
   "execution_count": null,
   "metadata": {},
   "outputs": [],
   "source": [
    "from os import environ\n",
    "\n",
    "environ['HF_HOME'] = '/Volumes/DATA/hf_home'\n",
    "# environ[\"HF_HOME\"] = \"/mnt/workspaces/hf_home\"\n",
    "environ[\"HTTP_PROXY\"] = \"http://127.0.0.1:7890\"\n",
    "environ[\"HTTPS_PROXY\"] = \"http://127.0.0.1:7890\"\n",
    "environ[\"OPENAI_API_BASE\"] = \"http://10.1.3.28:8990/v1\"\n",
    "environ[\"OPENAI_API_KEY\"] = \"sk-\"\n",
    "\n",
    "\n",
    "from retrieval_qa_benchmark.models import *\n",
    "from retrieval_qa_benchmark.datasets import *\n",
    "from retrieval_qa_benchmark.transforms import *\n",
    "from retrieval_qa_benchmark.protocols import *\n",
    "from retrieval_qa_benchmark.utils.registry import REGISTRY\n",
    "from retrieval_qa_benchmark.utils.profiler import PROFILER\n",
    "\n",
    "print(str(REGISTRY))"
   ]
  },
  {
   "cell_type": "code",
   "execution_count": 2,
   "metadata": {},
   "outputs": [],
   "source": [
    "import yaml\n",
    "from retrieval_qa_benchmark.utils.config import load\n",
    "\n",
    "config = load(open(\"../config/mmlu-llama2-remote-retrieval-myscale.yaml\"))\n",
    "# config = load(open(\"../config/test.yaml\"))\n",
    "evaluator = REGISTRY.Evaluators[\"mcsa\"].from_config(config)\n",
    "print(evaluator.transform)"
   ]
  },
  {
   "cell_type": "code",
   "execution_count": null,
   "metadata": {},
   "outputs": [],
   "source": [
    "import json\n",
    "from tqdm import tqdm\n",
    "from multiprocess.pool import ThreadPool\n",
    "from retrieval_qa_benchmark.utils.profiler import PROFILER\n",
    "\n",
    "PROFILER.clear()\n",
    "\n",
    "evaluator.transform.nodes[\"0\"].num_selected = 10\n",
    "print(evaluator.transform)\n",
    "\n",
    "\n",
    "def single(i):\n",
    "    return evaluator.transform(evaluator.dataset[i])\n",
    "\n",
    "\n",
    "data = []\n",
    "for r in tqdm(map(single, range(len(evaluator.dataset))), total=len(evaluator.dataset)):\n",
    "    data.append(r)\n",
    "with open(\"old_aligned.jsonl\", \"w\") as f:\n",
    "    f.write(\"\\n\".join([json.dumps(d.model_dump()) for d in data]))\n",
    "evaluator.dataset.eval_set = evaluator.dataset.eval_set[:5]\n",
    "# data[0]"
   ]
  },
  {
   "cell_type": "code",
   "execution_count": null,
   "metadata": {},
   "outputs": [],
   "source": [
    "print(evaluator.llm.convert_record(data[0]))"
   ]
  },
  {
   "cell_type": "code",
   "execution_count": null,
   "metadata": {},
   "outputs": [],
   "source": [
    "print(str(PROFILER))\n",
    "PROFILER.clear()"
   ]
  },
  {
   "cell_type": "code",
   "execution_count": null,
   "metadata": {},
   "outputs": [],
   "source": [
    "matched = evaluator()"
   ]
  },
  {
   "cell_type": "code",
   "execution_count": null,
   "metadata": {},
   "outputs": [],
   "source": [
    "print(str(PROFILER))"
   ]
  },
  {
   "cell_type": "code",
   "execution_count": null,
   "metadata": {},
   "outputs": [],
   "source": [
    "with open(\"results.with-retrieval.test.jsonl\", \"w\") as f:\n",
    "    f.write(\"\\n\".join([r.model_dump_json() for r in matched[1]]))"
   ]
  },
  {
   "cell_type": "code",
   "execution_count": null,
   "metadata": {},
   "outputs": [],
   "source": [
    "for dname, dset in REGISTRY.Datasets.items():\n",
    "    print(f\"Loading {dname}...\")\n",
    "    dset.build()"
   ]
  },
  {
   "cell_type": "code",
   "execution_count": null,
   "metadata": {},
   "outputs": [],
   "source": [
    "from retrieval_qa_benchmark.schema import QAPrediction\n",
    "\n",
    "mismatched = [pred for pred in matched[1] if pred.matched]"
   ]
  },
  {
   "cell_type": "code",
   "execution_count": null,
   "metadata": {},
   "outputs": [],
   "source": [
    "with open(\"results.test.jsonl\", \"w\") as f:\n",
    "    f.write(\"\\n\".join([r.model_dump_json() for r in mismatched]))"
   ]
  },
  {
   "cell_type": "code",
   "execution_count": null,
   "metadata": {},
   "outputs": [],
   "source": [
    "import json\n",
    "\n",
    "with open(\"old_aligned.jsonl\") as f1:\n",
    "    old_result = [json.loads(l) for l in f1.readlines()]\n",
    "\n",
    "with open(\"new.jsonl\") as f2:\n",
    "    new_result = [json.loads(l) for l in f2.readlines()]"
   ]
  },
  {
   "cell_type": "code",
   "execution_count": null,
   "metadata": {},
   "outputs": [],
   "source": [
    "from hashlib import sha256\n",
    "\n",
    "cnt = 0\n",
    "for r1, r2 in zip(old_result, new_result):\n",
    "    c1 = set(map(lambda x: sha256(x.encode(\"utf-8\")).hexdigest(), r1[\"context\"]))\n",
    "    c2 = set(map(lambda x: sha256(x.encode(\"utf-8\")).hexdigest(), r2[\"context\"]))\n",
    "    cnt += len(c2.intersection(c1))\n",
    "print(cnt / len(new_result) / 5)"
   ]
  },
  {
   "cell_type": "code",
   "execution_count": null,
   "metadata": {},
   "outputs": [],
   "source": [
    "import json\n",
    "\n",
    "with open(\"old_aligned.jsonl\") as f1:\n",
    "    old_result = [json.loads(l) for l in f1.readlines()]\n",
    "\n",
    "with open(\"new.jsonl\") as f2:\n",
    "    new_result = [json.loads(l) for l in f2.readlines()]"
   ]
  },
  {
   "cell_type": "code",
   "execution_count": null,
   "metadata": {},
   "outputs": [],
   "source": [
    "from hashlib import sha256\n",
    "\n",
    "cnt = 0\n",
    "for r1, r2 in zip(old_result, new_result):\n",
    "    c1 = set(map(lambda x: sha256(x.encode(\"utf-8\")).hexdigest(), r1[\"context\"]))\n",
    "    c2 = set(map(lambda x: sha256(x.encode(\"utf-8\")).hexdigest(), r2[\"context\"]))\n",
    "    cnt += len(c2.intersection(c1))\n",
    "print(cnt / len(new_result) / 5)"
   ]
  },
  {
   "cell_type": "code",
   "execution_count": null,
   "metadata": {},
   "outputs": [],
   "source": [
    "#!/usr/bin/python3\n",
    "\n",
    "import sys\n",
    "\n",
    "if __name__ == '__main__':\n",
    "    for line in sys.stdin:\n",
    "        line = \n",
    "        print(\"Value \" + line, end='')\n",
    "        sys.stdout.flush()"
   ]
  }
 ],
 "metadata": {
  "kernelspec": {
   "display_name": "base",
   "language": "python",
   "name": "python3"
  },
  "language_info": {
   "codemirror_mode": {
    "name": "ipython",
    "version": 3
   },
   "file_extension": ".py",
   "mimetype": "text/x-python",
   "name": "python",
   "nbconvert_exporter": "python",
   "pygments_lexer": "ipython3",
   "version": "3.11.3"
  },
  "orig_nbformat": 4
 },
 "nbformat": 4,
 "nbformat_minor": 2
}
