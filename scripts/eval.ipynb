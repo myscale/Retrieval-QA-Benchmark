{
 "cells": [
  {
   "cell_type": "code",
   "execution_count": 1,
   "metadata": {},
   "outputs": [
    {
     "name": "stderr",
     "output_type": "stream",
     "text": [
      "/Users/mpsk/Library/Caches/pypoetry/virtualenvs/retrieval-qa-benchmark-OUwPJWBa-py3.11/lib/python3.11/site-packages/tqdm/auto.py:21: TqdmWarning: IProgress not found. Please update jupyter and ipywidgets. See https://ipywidgets.readthedocs.io/en/stable/user_install.html\n",
      "  from .autonotebook import tqdm as notebook_tqdm\n"
     ]
    }
   ],
   "source": [
    "from os import environ\n",
    "environ['HF_HOME'] = '/Volumes/DATA/hf_home'\n",
    "environ['HTTP_PROXY'] = 'http://localhost:7890'\n",
    "environ['HTTPS_PROXY'] = 'http://localhost:7890'\n",
    "environ['OPENAI_API_BASE'] = 'http://10.1.3.28:8990/v1'\n",
    "environ['OPENAI_API_KEY'] = 'sk-'\n",
    "\n",
    "from retrieval_qa_benchmark.datasets import MMLU\n",
    "from retrieval_qa_benchmark.datasets import HotpotQA\n",
    "from retrieval_qa_benchmark.datasets import WikiHop\n"
   ]
  },
  {
   "cell_type": "code",
   "execution_count": 2,
   "metadata": {},
   "outputs": [
    {
     "name": "stderr",
     "output_type": "stream",
     "text": [
      "Converting dataset...: 100%|██████████| 324/324 [00:00<00:00, 41206.66it/s]\n"
     ]
    }
   ],
   "source": [
    "from retrieval_qa_benchmark.utils.transforms import MultipleChoiceTransform\n",
    "# dataset = HotpotQA.build(subset='fullwiki')\n",
    "# dataset = WikiHop.build(subset='original')\n",
    "dataset = MMLU.build(subset='prehistory',\n",
    "                     extra_transforms=[MultipleChoiceTransform(\n",
    "                         prompt_prefix=\"Please answer with the letter of the correct answer.\\n\")])"
   ]
  },
  {
   "cell_type": "code",
   "execution_count": 6,
   "metadata": {},
   "outputs": [
    {
     "name": "stdout",
     "output_type": "stream",
     "text": [
      "Please answer with the letter of the correct answer.\n",
      "\n",
      "Unlike most other early civilizations, Minoan culture shows little evidence of:\n",
      "A. trade.\tB. warfare.\tC. the development of a common religion.\tD. conspicuous consumption by elites.\n",
      "\n"
     ]
    },
    {
     "data": {
      "text/plain": [
       "'Here is the correct answer: D. conspicuous consumption by elites.'"
      ]
     },
     "execution_count": 6,
     "metadata": {},
     "output_type": "execute_result"
    }
   ],
   "source": [
    "print(dataset[0].question)\n",
    "from retrieval_qa_benchmark.models.openai import GPT, ChatGPT\n",
    "model = ChatGPT.build(model_name='model')\n",
    "model.generate(dataset[0].question, temperature=0)"
   ]
  },
  {
   "cell_type": "code",
   "execution_count": null,
   "metadata": {},
   "outputs": [],
   "source": []
  }
 ],
 "metadata": {
  "kernelspec": {
   "display_name": "base",
   "language": "python",
   "name": "python3"
  },
  "language_info": {
   "codemirror_mode": {
    "name": "ipython",
    "version": 3
   },
   "file_extension": ".py",
   "mimetype": "text/x-python",
   "name": "python",
   "nbconvert_exporter": "python",
   "pygments_lexer": "ipython3",
   "version": "3.11.3"
  },
  "orig_nbformat": 4
 },
 "nbformat": 4,
 "nbformat_minor": 2
}
