{
 "cells": [
  {
   "cell_type": "code",
   "execution_count": 1,
   "metadata": {},
   "outputs": [
    {
     "name": "stderr",
     "output_type": "stream",
     "text": [
      "/Users/fangruil/Documents/MQDB/Retrieval-QA-Benchmark/.venv/lib/python3.8/site-packages/tqdm/auto.py:21: TqdmWarning: IProgress not found. Please update jupyter and ipywidgets. See https://ipywidgets.readthedocs.io/en/stable/user_install.html\n",
      "  from .autonotebook import tqdm as notebook_tqdm\n"
     ]
    },
    {
     "name": "stdout",
     "output_type": "stream",
     "text": [
      "Datasets:\n",
      "\thf_dataset\n",
      "\thotpot_qa\n",
      "\tmmlu\n",
      "\twikihop\n",
      "ExtraTransforms:\n",
      "\tbase\n",
      "\tmcsa_prompt\n",
      "Models:\n",
      "\tgpt35\n",
      "\tchatgpt35\n",
      "Evaluators:\n",
      "\n"
     ]
    }
   ],
   "source": [
    "from os import environ\n",
    "\n",
    "# environ['HF_HOME'] = '/Volumes/DATA/hf_home'\n",
    "environ[\"HTTP_PROXY\"] = \"http://localhost:7890\"\n",
    "environ[\"HTTPS_PROXY\"] = \"http://localhost:7890\"\n",
    "environ[\"OPENAI_API_BASE\"] = \"http://10.1.3.28:8990/v1\"\n",
    "environ[\"OPENAI_API_KEY\"] = \"sk-\"\n",
    "\n",
    "from retrieval_qa_benchmark.models import *\n",
    "from retrieval_qa_benchmark.datasets import *\n",
    "from retrieval_qa_benchmark.transforms import *\n",
    "from retrieval_qa_benchmark.utils.registry import REGISTRY\n",
    "\n",
    "print(str(REGISTRY))"
   ]
  },
  {
   "cell_type": "code",
   "execution_count": null,
   "metadata": {},
   "outputs": [],
   "source": [
    "import yaml\n",
    "\n",
    "config = yaml.safe_load(open(\"../config/mmlu-llama2-remote.yaml\"))\n",
    "from retrieval_qa_benchmark.utils.factory import (\n",
    "    DatasetFactory,\n",
    "    ModelFactory,\n",
    "    TransformChainFactory,\n",
    "    TransformFactory,\n",
    ")\n",
    "from retrieval_qa_benchmark.utils.registry import REGISTRY\n",
    "\n",
    "print(str(REGISTRY))\n",
    "\n",
    "# yaml factory\n",
    "dataset = DatasetFactory.from_config(config[\"dataset\"]).build()\n",
    "transform = TransformChainFactory(\n",
    "    chain_config=[TransformFactory.from_config(c) for c in config[\"transforms\"]]\n",
    ").build()\n",
    "model = ModelFactory.from_config(config[\"model\"]).build()"
   ]
  },
  {
   "cell_type": "code",
   "execution_count": null,
   "metadata": {},
   "outputs": [],
   "source": [
    "print(dataset[0].question)\n",
    "from retrieval_qa_benchmark.models.openai import GPT, ChatGPT\n",
    "\n",
    "model = ChatGPT.build(model_name=\"model\")\n",
    "model.generate(dataset[0].question, temperature=0)"
   ]
  },
  {
   "cell_type": "code",
   "execution_count": null,
   "metadata": {},
   "outputs": [],
   "source": [
    "import json\n",
    "from retrieval_qa_benchmark.protocols.base import BaseEvaluator\n",
    "\n",
    "eval = BaseEvaluator(dataset=dataset, llm=model)\n",
    "print(eval.model_dump())"
   ]
  },
  {
   "cell_type": "code",
   "execution_count": null,
   "metadata": {},
   "outputs": [],
   "source": [
    "import inspect\n",
    "\n",
    "module = inspect.getmodulename(\"retrieval_qa_benchmark.protocols.base\")"
   ]
  },
  {
   "cell_type": "code",
   "execution_count": null,
   "metadata": {},
   "outputs": [],
   "source": [
    "module.build()"
   ]
  },
  {
   "cell_type": "code",
   "execution_count": 3,
   "metadata": {},
   "outputs": [
    {
     "name": "stdout",
     "output_type": "stream",
     "text": [
      "Datasets:\n",
      "\thf_dataset\n",
      "\thotpot_qa\n",
      "\tmmlu\n",
      "\twikihop\n",
      "Transforms:\n",
      "\tbase\n",
      "\tmcsa_prompt\n",
      "Models:\n",
      "\tgpt35\n",
      "\tchatgpt35\n",
      "Evaluators:\n",
      "\n",
      "chain=[MultipleChoiceTransform(sep_chr='\\n', prompt_prefix='Please answer with the letter of the correct answer.\\n', prompt_suffix='')]\n"
     ]
    }
   ],
   "source": [
    "import yaml\n",
    "\n",
    "config = yaml.safe_load(open(\"../config/mmlu-llama2-remote.yaml\"))\n",
    "from retrieval_qa_benchmark.utils.factory import (\n",
    "    DatasetFactory,\n",
    "    ModelFactory,\n",
    "    TransformChainFactory,\n",
    "    TransformFactory,\n",
    ")\n",
    "from retrieval_qa_benchmark.utils.registry import REGISTRY\n",
    "\n",
    "print(str(REGISTRY))\n",
    "\n",
    "# yaml factory\n",
    "dataset = DatasetFactory.from_config(config[\"dataset\"]).build()\n",
    "transform = TransformChainFactory(\n",
    "    chain_config=[TransformFactory.from_config(c) for c in config[\"transforms\"]]\n",
    ").build()\n",
    "model = ModelFactory.from_config(config[\"model\"]).build()"
   ]
  },
  {
   "cell_type": "code",
   "execution_count": 2,
   "metadata": {},
   "outputs": [
    {
     "data": {
      "text/plain": [
       "ChatGPT(model_name='gpt-3.5-turbo', run_args={'temperature': 0.7, 'top_p': 1.0}, system_prompt='You are a helpful assistant.')"
      ]
     },
     "execution_count": 2,
     "metadata": {},
     "output_type": "execute_result"
    }
   ],
   "source": [
    "model"
   ]
  },
  {
   "cell_type": "code",
   "execution_count": null,
   "metadata": {},
   "outputs": [],
   "source": []
  }
 ],
 "metadata": {
  "kernelspec": {
   "display_name": "base",
   "language": "python",
   "name": "python3"
  },
  "language_info": {
   "codemirror_mode": {
    "name": "ipython",
    "version": 3
   },
   "file_extension": ".py",
   "mimetype": "text/x-python",
   "name": "python",
   "nbconvert_exporter": "python",
   "pygments_lexer": "ipython3",
   "version": "3.8.8"
  },
  "orig_nbformat": 4
 },
 "nbformat": 4,
 "nbformat_minor": 2
}
