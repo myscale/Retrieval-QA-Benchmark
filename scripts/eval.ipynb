{
 "cells": [
  {
   "cell_type": "code",
   "execution_count": 1,
   "metadata": {},
   "outputs": [
    {
     "name": "stderr",
     "output_type": "stream",
     "text": [
      "/home/fangruil/anaconda3/envs/yongqij/lib/python3.9/site-packages/pydantic/_internal/_fields.py:127: UserWarning: Field \"model_name\" has conflict with protected namespace \"model_\".\n",
      "\n",
      "You may be able to resolve this warning by setting `model_config['protected_namespaces'] = ()`.\n",
      "  warnings.warn(\n"
     ]
    },
    {
     "name": "stdout",
     "output_type": "stream",
     "text": [
      "Datasets:\n",
      "\thotpot_qa\n",
      "\tmmlu\n",
      "\twikihop\n",
      "Transforms:\n",
      "\tbase\n",
      "\tadd_myscale_retrieval\n",
      "\tmcma_prompt\n",
      "\tmcsa_prompt\n",
      "\tmcsa_fewshot_mmlu\n",
      "Models:\n",
      "\tremote-llm\n",
      "\tgpt35\n",
      "\tchatgpt35\n",
      "Evaluators:\n",
      "\tmcma\n",
      "\tmcsa\n"
     ]
    },
    {
     "name": "stderr",
     "output_type": "stream",
     "text": [
      "/home/fangruil/anaconda3/envs/yongqij/lib/python3.9/site-packages/pydantic/_internal/_fields.py:127: UserWarning: Field \"model_name\" has conflict with protected namespace \"model_\".\n",
      "\n",
      "You may be able to resolve this warning by setting `model_config['protected_namespaces'] = ()`.\n",
      "  warnings.warn(\n"
     ]
    }
   ],
   "source": [
    "from os import environ\n",
    "\n",
    "# environ['HF_HOME'] = '/Volumes/DATA/hf_home'\n",
    "environ[\"HF_HOME\"] = \"/mnt/workspaces/hf_home\"\n",
    "environ[\"HTTP_PROXY\"] = \"http://clash.internal.moqi.ai:7890\"\n",
    "environ[\"HTTPS_PROXY\"] = \"http://clash.internal.moqi.ai:7890\"\n",
    "environ[\"OPENAI_API_BASE\"] = \"http://10.1.3.28:8990/v1\"\n",
    "environ[\"OPENAI_API_KEY\"] = \"sk-qB3QC4y6OtIDASTcE10c06A9F24c462eA55f95867920Df8e\"\n",
    "\n",
    "\n",
    "from retrieval_qa_benchmark.models import *\n",
    "from retrieval_qa_benchmark.datasets import *\n",
    "from retrieval_qa_benchmark.transforms import *\n",
    "from retrieval_qa_benchmark.protocols import *\n",
    "from retrieval_qa_benchmark.utils.registry import REGISTRY\n",
    "from retrieval_qa_benchmark.utils.profiler import PROFILER\n",
    "\n",
    "print(str(REGISTRY))"
   ]
  },
  {
   "cell_type": "code",
   "execution_count": 2,
   "metadata": {},
   "outputs": [
    {
     "name": "stderr",
     "output_type": "stream",
     "text": [
      "Converting dataset...: 100%|██████████| 324/324 [00:00<00:00, 6925.67it/s]\n",
      "[nltk_data] Downloading package stopwords to\n",
      "[nltk_data]     /home/yongqij/nltk_data...\n",
      "[nltk_data]   Package stopwords is already up-to-date!\n",
      "[nltk_data] Downloading package punkt to /home/yongqij/nltk_data...\n",
      "[nltk_data]   Package punkt is already up-to-date!\n",
      "[nltk_data] Downloading package averaged_perceptron_tagger to\n",
      "[nltk_data]     /home/yongqij/nltk_data...\n",
      "[nltk_data]   Package averaged_perceptron_tagger is already up-to-\n",
      "[nltk_data]       date!\n",
      "[nltk_data] Downloading package wordnet to /home/yongqij/nltk_data...\n",
      "[nltk_data]   Package wordnet is already up-to-date!\n"
     ]
    }
   ],
   "source": [
    "import yaml\n",
    "from retrieval_qa_benchmark.utils.config import load\n",
    "config = load(open(\"../config/test.yaml\"))\n",
    "evaluator = REGISTRY.Evaluators[\"mcsa\"].from_config(config)\n",
    "# print(evaluator.transform)"
   ]
  },
  {
   "cell_type": "code",
   "execution_count": 4,
   "metadata": {},
   "outputs": [
    {
     "data": {
      "application/vnd.jupyter.widget-view+json": {
       "model_id": "8ec8d6503f8845838efe08a89f70a98b",
       "version_major": 2,
       "version_minor": 0
      },
      "text/plain": [
       "QARecord(id='4e8db4a928333356588d2b89477e5d5bcb95532cd8afa355456ac94e13fd1849', question='Unlike most other early civilizations, Minoan culture shows little evidence of:', answer='conspicuous consumption by elites.', type='MCSA', context=None, choices=['trade.', 'warfare.', 'the development of a common religion.', 'conspicuous consumption by elites.'], stack=[])"
      ]
     },
     "execution_count": 4,
     "metadata": {},
     "output_type": "execute_result"
    }
   ],
   "source": [
    "data = evaluator.transform(evaluator.dataset[0])\n",
    "# print(evaluator.transform(evaluator.dataset[0]).raw_question)\n",
    "# evaluator.dataset.eval_set = evaluator.dataset.eval_set[:5]\n",
    "data"
   ]
  },
  {
   "cell_type": "code",
   "execution_count": 7,
   "metadata": {},
   "outputs": [
    {
     "name": "stdout",
     "output_type": "stream",
     "text": [
      "load index...\n",
      "load mpnet model...\n",
      "load Colbert model...\n",
      "chain=[MultipleChoiceTransform(sep_chr='\\n', prompt_prefix='The following are multiple choice questions (with answers)\\n', prompt_suffix='Answer: '), AddContextTransform(sep_chr='\\n', prompt_prefix='Context:', context=['1', '2'], replace=False), AddMyScaleRetrievalTransform(sep_chr='\\n', prompt_prefix='Context:', replace=False, num_filtered=100, num_selected=5, with_title=True, rank_dict={'mpnet': 30, 'bm25': 40}, index_path='/mnt/workspaces/yongqij/evals/data/indexes/Cohere_mpnet/IVFSQ_L2.index', model_name='paraphrase-multilingual-mpnet-base-v2', dataset_name=['Cohere/wikipedia-22-12-en-embeddings'])]\n"
     ]
    }
   ],
   "source": [
    "import yaml\n",
    "\n",
    "config = yaml.safe_load(open(\"../config/mmlu-llama2-remote.yaml\"))\n",
    "evaluator = REGISTRY.Evaluators[\"mcsa\"].from_config(config)\n",
    "print(evaluator.transform)"
   ]
  },
  {
   "cell_type": "code",
   "execution_count": 5,
   "metadata": {},
   "outputs": [
    {
     "name": "stdout",
     "output_type": "stream",
     "text": [
      "{'id': '4e8db4a928333356588d2b89477e5d5bcb95532cd8afa355456ac94e13fd1849', 'answer': 'conspicuous consumption by elites.', 'type': 'MCSA', 'raw_question': 'Unlike most other early civilizations, Minoan culture shows little evidence of:', 'context': ['1', '2'], 'choices': ['trade.', 'warfare.', 'the development of a common religion.', 'conspicuous consumption by elites.'], 'question': 'The following are multiple choice questions (with answers)\\n\\nContext:\\n[1] 1\\n[2] 2\\n\\nUnlike most other early civilizations, Minoan culture shows little evidence of:\\nA. trade.\\nB. warfare.\\nC. the development of a common religion.\\nD. conspicuous consumption by elites.\\nAnswer: '}\n",
      "['Minoan civilization | According to Arthur Evans, a \"Minoan peace\" (\"Pax Minoica\") existed; there was little internal armed conflict in Minoan Crete until the Mycenaean period. However, it is difficult to draw hard-and-fast conclusions from the evidence and Evans\\' idealistic view has been questioned.', 'Minoan civilization | Chester Starr said in \"Minoan Flower Lovers\" that since Shang China and the Maya had unfortified centers and engaged in frontier struggles, a lack of fortifications alone does not prove that the Minoans were a peaceful civilization unparalleled in history. In 1998, when Minoan archaeologists met in a Belgian conference to discuss the possibility that the Pax Minoica was outdated, evidence of Minoan war was still scanty. According to Jan Driessen, the Minoans frequently depicted \"weapons\" in their art in a ritual context:', 'Minoan civilization | Despite finding ruined watchtowers and fortification walls, Evans said that there was little evidence of ancient Minoan fortifications. According to Stylianos Alexiou (in \"Kretologia\" 8), a number of sites (especially early and middle Minoan sites such as Aghia Photia) are built on hilltops or otherwise fortified. Lucia Nixon wrote:', 'Minoan pottery | Early Minoan pottery, to some extent, continued, and possibly evolved from, the local Final Neolithic (FN) without a severe break. Many suggest that Minoan civilization evolved \"in-situ\" and was not imported from the East. Its other main feature is its variety from site to site, which is suggestive of localism of Early Minoan social traditions.', 'Minoan civilization | Very little is known about the forms of Minoan government; the Minoan language has not yet been deciphered. It used to be believed that the Minoans had a monarchy supported by a bureaucracy. This might initially have been a number of monarchies, corresponding with the \"palaces\" around Crete, but later all taken over by Knossos, which was itself later occupied by Mycenaean overlords. But, in notable contrast to contemporary Egyptian and Mesopotamian civilizations, \"Minoan iconography contains no pictures of recognizable kings\", and in recent decades it has come to be thought that before the presumed Mycenaean invasion around 1450BC, a group of elite families, presumably living in the \"villas\" and the palaces, controlled both government and religion.']\n",
      "The following are multiple choice questions (with answers)\n",
      "\n",
      "Context:\n",
      "[1] 1\n",
      "[2] 2\n",
      "[3] 1\n",
      "[4] 2\n",
      "\n",
      "Unlike most other early civilizations, Minoan culture shows little evidence of:\n",
      "A. trade.\n",
      "B. warfare.\n",
      "C. the development of a common religion.\n",
      "D. conspicuous consumption by elites.\n",
      "Answer: \n"
     ]
    }
   ],
   "source": [
    "print(str(PROFILER))"
   ]
  },
  {
   "cell_type": "code",
   "execution_count": null,
   "metadata": {},
   "outputs": [],
   "source": [
    "matched = evaluator()"
   ]
  },
  {
   "cell_type": "code",
   "execution_count": null,
   "metadata": {},
   "outputs": [],
   "source": [
    "print(str(PROFILER))"
   ]
  },
  {
   "cell_type": "code",
   "execution_count": null,
   "metadata": {},
   "outputs": [],
   "source": [
    "with open(\"results.with-retrieval.jsonl\", \"w\") as f:\n",
    "    f.write(\"\\n\".join([r.model_dump_json() for r in matched[1]]))"
   ]
  },
  {
   "cell_type": "code",
   "execution_count": null,
   "metadata": {},
   "outputs": [],
   "source": [
    "for dname, dset in REGISTRY.Datasets.items():\n",
    "    print(f\"Loading {dname}...\")\n",
    "    dset.build()"
   ]
  },
  {
   "cell_type": "code",
   "execution_count": null,
   "metadata": {},
   "outputs": [],
   "source": [
    "from retrieval_qa_benchmark.schema import QAPrediction\n",
    "\n",
    "mismatched = [pred for pred in matched[1] if pred.matched]"
   ]
  },
  {
   "cell_type": "code",
   "execution_count": null,
   "metadata": {},
   "outputs": [],
   "source": [
    "with open(\"results.test.jsonl\", \"w\") as f:\n",
    "    f.write(\"\\n\".join([r.model_dump_json() for r in mismatched]))"
   ]
  },
  {
   "cell_type": "code",
   "execution_count": null,
   "metadata": {},
   "outputs": [],
   "source": []
  }
 ],
 "metadata": {
  "kernelspec": {
   "display_name": "base",
   "language": "python",
   "name": "python3"
  },
  "language_info": {
   "codemirror_mode": {
    "name": "ipython",
    "version": 3
   },
   "file_extension": ".py",
   "mimetype": "text/x-python",
   "name": "python",
   "nbconvert_exporter": "python",
   "pygments_lexer": "ipython3",
   "version": "3.9.17"
  },
  "orig_nbformat": 4
 },
 "nbformat": 4,
 "nbformat_minor": 2
}
