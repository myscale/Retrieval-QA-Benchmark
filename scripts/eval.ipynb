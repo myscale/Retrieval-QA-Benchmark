{
 "cells": [
  {
   "cell_type": "code",
   "execution_count": 1,
   "metadata": {},
   "outputs": [
    {
     "name": "stderr",
     "output_type": "stream",
     "text": [
      "/Users/mpsk/Library/Caches/pypoetry/virtualenvs/retrieval-qa-benchmark-OUwPJWBa-py3.11/lib/python3.11/site-packages/tqdm/auto.py:21: TqdmWarning: IProgress not found. Please update jupyter and ipywidgets. See https://ipywidgets.readthedocs.io/en/stable/user_install.html\n",
      "  from .autonotebook import tqdm as notebook_tqdm\n"
     ]
    }
   ],
   "source": [
    "from os import environ\n",
    "environ['HF_HOME'] = '/Volumes/DATA/hf_home'\n",
    "environ['HTTP_PROXY'] = 'http://localhost:7890'\n",
    "environ['HTTPS_PROXY'] = 'http://localhost:7890'\n",
    "\n",
    "from retrieval_qa_benchmark.datasets import MMLU\n",
    "from retrieval_qa_benchmark.datasets import HotpotQA\n",
    "from retrieval_qa_benchmark.datasets import WikiHop\n"
   ]
  },
  {
   "cell_type": "code",
   "execution_count": 2,
   "metadata": {},
   "outputs": [
    {
     "name": "stderr",
     "output_type": "stream",
     "text": [
      "Converting dataset...: 100%|██████████| 7405/7405 [00:00<00:00, 11573.64it/s]\n",
      "Converting dataset...: 100%|██████████| 324/324 [00:00<00:00, 55758.84it/s]\n",
      "Converting dataset...: 100%|██████████| 5129/5129 [00:00<00:00, 14557.09it/s]\n"
     ]
    }
   ],
   "source": [
    "dataset = HotpotQA.build(subset='fullwiki')\n",
    "dataset = MMLU.build(subset='prehistory')\n",
    "# dataset[0]\n",
    "dataset = WikiHop.build(subset='original')"
   ]
  },
  {
   "cell_type": "code",
   "execution_count": null,
   "metadata": {},
   "outputs": [],
   "source": []
  }
 ],
 "metadata": {
  "kernelspec": {
   "display_name": "base",
   "language": "python",
   "name": "python3"
  },
  "language_info": {
   "codemirror_mode": {
    "name": "ipython",
    "version": 3
   },
   "file_extension": ".py",
   "mimetype": "text/x-python",
   "name": "python",
   "nbconvert_exporter": "python",
   "pygments_lexer": "ipython3",
   "version": "3.11.3"
  },
  "orig_nbformat": 4
 },
 "nbformat": 4,
 "nbformat_minor": 2
}
