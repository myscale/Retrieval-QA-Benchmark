{
 "cells": [
  {
   "cell_type": "code",
   "execution_count": 1,
   "metadata": {},
   "outputs": [
    {
     "name": "stdout",
     "output_type": "stream",
     "text": [
      "Datasets:\n",
      "\thotpot_qa\n",
      "\tmmlu\n",
      "\twikihop\n",
      "Transforms:\n",
      "\tbase\n",
      "\tmcsa_prompt\n",
      "\tmcsa_fewshot_mmlu\n",
      "\tmcma_prompt\n",
      "Models:\n",
      "\tremote-llm\n",
      "\tgpt35\n",
      "\tchatgpt35\n",
      "Evaluators:\n",
      "\tmcma\n",
      "\tmcsa\n"
     ]
    },
    {
     "name": "stderr",
     "output_type": "stream",
     "text": [
      "/Users/mpsk/Library/Caches/pypoetry/virtualenvs/retrieval-qa-benchmark-OUwPJWBa-py3.11/lib/python3.11/site-packages/tqdm/auto.py:21: TqdmWarning: IProgress not found. Please update jupyter and ipywidgets. See https://ipywidgets.readthedocs.io/en/stable/user_install.html\n",
      "  from .autonotebook import tqdm as notebook_tqdm\n",
      "/Users/mpsk/Library/Caches/pypoetry/virtualenvs/retrieval-qa-benchmark-OUwPJWBa-py3.11/lib/python3.11/site-packages/pydantic/_internal/_fields.py:127: UserWarning: Field \"model_name\" has conflict with protected namespace \"model_\".\n",
      "\n",
      "You may be able to resolve this warning by setting `model_config['protected_namespaces'] = ()`.\n",
      "  warnings.warn(\n"
     ]
    }
   ],
   "source": [
    "from os import environ\n",
    "\n",
    "environ['HF_HOME'] = '/Volumes/DATA/hf_home'\n",
    "environ[\"HTTP_PROXY\"] = \"http://localhost:7890\"\n",
    "environ[\"HTTPS_PROXY\"] = \"http://localhost:7890\"\n",
    "environ[\"OPENAI_API_BASE\"] = \"http://10.1.3.28:8990/v1\"\n",
    "environ[\"OPENAI_API_KEY\"] = \"sk-\"\n",
    "\n",
    "from retrieval_qa_benchmark.models import *\n",
    "from retrieval_qa_benchmark.datasets import *\n",
    "from retrieval_qa_benchmark.transforms import *\n",
    "from retrieval_qa_benchmark.protocols import *\n",
    "from retrieval_qa_benchmark.utils.registry import REGISTRY\n",
    "from retrieval_qa_benchmark.utils.profiler import PROFILER\n",
    "\n",
    "print(str(REGISTRY))"
   ]
  },
  {
   "cell_type": "code",
   "execution_count": 2,
   "metadata": {},
   "outputs": [
    {
     "name": "stderr",
     "output_type": "stream",
     "text": [
      "Converting dataset...: 100%|██████████| 324/324 [00:00<00:00, 38774.10it/s]"
     ]
    },
    {
     "name": "stdout",
     "output_type": "stream",
     "text": [
      "chain=[MultipleChoiceTransform(sep_chr='\\n', prompt_prefix='The following are multiple choice questions (with answers)\\n', prompt_suffix='Answer: ')]\n"
     ]
    },
    {
     "name": "stderr",
     "output_type": "stream",
     "text": [
      "\n"
     ]
    }
   ],
   "source": [
    "import yaml\n",
    "\n",
    "config = yaml.safe_load(open(\"../config/mmlu-llama2-remote.yaml\"))\n",
    "evaluator = REGISTRY.Evaluators[\"mcsa\"].from_config(config)\n",
    "print(evaluator.transform)"
   ]
  },
  {
   "cell_type": "code",
   "execution_count": 3,
   "metadata": {},
   "outputs": [],
   "source": [
    "evaluator.transform(evaluator.dataset[0])\n",
    "evaluator.dataset.eval_set = evaluator.dataset.eval_set[:5]"
   ]
  },
  {
   "cell_type": "code",
   "execution_count": 4,
   "metadata": {},
   "outputs": [
    {
     "name": "stderr",
     "output_type": "stream",
     "text": [
      "Evaluating: 100%|██████████| 5/5 [02:23<00:00, 28.74s/it]\n",
      "\u001b[32m2023-08-07 14:47:46.620\u001b[0m | \u001b[1mINFO    \u001b[0m | \u001b[36mretrieval_qa_benchmark.protocols.base\u001b[0m:\u001b[36m__call__\u001b[0m:\u001b[36m62\u001b[0m - \u001b[1mEvaluation finished! Executed Evaluator:<class 'retrieval_qa_benchmark.protocols.mcsa.MCSAEvaluator'> on Dataset:cais/mmlu.prehistory-test with Model:llama2-13b-chat. Accuracy: 40.00%\u001b[0m\n"
     ]
    }
   ],
   "source": [
    "matched = evaluator()"
   ]
  },
  {
   "cell_type": "code",
   "execution_count": 6,
   "metadata": {},
   "outputs": [
    {
     "name": "stdout",
     "output_type": "stream",
     "text": [
      "\t======== Profile Result ========\n",
      "BaseTransform.chain           \tCount:     330\tAvgTime:    0.01 msBaseDataset.__getitem__       \tCount:       1\tAvgTime:    0.01 msTransformChain.__call__       \tCount:       6\tAvgTime:    0.20 msBaseModel.generate            \tCount:       5\tAvgTime:28741.18 ms\n"
     ]
    }
   ],
   "source": [
    "print(str(PROFILER))"
   ]
  },
  {
   "cell_type": "code",
   "execution_count": 5,
   "metadata": {},
   "outputs": [],
   "source": [
    "with open('results.jsonl', 'w') as f:\n",
    "    f.write('\\n'.join([r.model_dump_json() for r in matched[1]]))"
   ]
  },
  {
   "cell_type": "code",
   "execution_count": null,
   "metadata": {},
   "outputs": [],
   "source": [
    "for dname, dset in REGISTRY.Datasets.items():\n",
    "    print(f\"Loading {dname}...\")\n",
    "    dset.build()"
   ]
  },
  {
   "cell_type": "code",
   "execution_count": 7,
   "metadata": {},
   "outputs": [],
   "source": [
    "from retrieval_qa_benchmark.schema import QAPrediction\n",
    "mismatched = [pred for pred in matched[1] if pred.matched]"
   ]
  },
  {
   "cell_type": "code",
   "execution_count": 8,
   "metadata": {},
   "outputs": [],
   "source": [
    "with open('results.test.jsonl', 'w') as f:\n",
    "    f.write('\\n'.join([r.model_dump_json() for r in mismatched]))"
   ]
  },
  {
   "cell_type": "code",
   "execution_count": null,
   "metadata": {},
   "outputs": [],
   "source": []
  }
 ],
 "metadata": {
  "kernelspec": {
   "display_name": "base",
   "language": "python",
   "name": "python3"
  },
  "language_info": {
   "codemirror_mode": {
    "name": "ipython",
    "version": 3
   },
   "file_extension": ".py",
   "mimetype": "text/x-python",
   "name": "python",
   "nbconvert_exporter": "python",
   "pygments_lexer": "ipython3",
   "version": "3.11.3"
  },
  "orig_nbformat": 4
 },
 "nbformat": 4,
 "nbformat_minor": 2
}
